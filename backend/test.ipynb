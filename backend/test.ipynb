{
 "cells": [
  {
   "cell_type": "code",
   "execution_count": 1,
   "metadata": {},
   "outputs": [
    {
     "data": {
      "text/plain": [
       "(shape: (3, 1)\n",
       " ┌─────┐\n",
       " │ 1   │\n",
       " │ --- │\n",
       " │ i64 │\n",
       " ╞═════╡\n",
       " │ 1   │\n",
       " │ 2   │\n",
       " │ 3   │\n",
       " └─────┘,\n",
       " shape: (2, 1)\n",
       " ┌─────┐\n",
       " │ 1   │\n",
       " │ --- │\n",
       " │ i64 │\n",
       " ╞═════╡\n",
       " │ 2   │\n",
       " │ 3   │\n",
       " └─────┘)"
      ]
     },
     "execution_count": 1,
     "metadata": {},
     "output_type": "execute_result"
    }
   ],
   "source": [
    "import polars as pl\n",
    "\n",
    "df1 = pl.DataFrame({\"1\" : [1, 2, 3]})\n",
    "df2 = pl.DataFrame({\"1\" : [2, 3]})\n",
    "df1, df2"
   ]
  },
  {
   "cell_type": "code",
   "execution_count": 6,
   "metadata": {},
   "outputs": [
    {
     "data": {
      "text/html": [
       "<div><style>\n",
       ".dataframe > thead > tr,\n",
       ".dataframe > tbody > tr {\n",
       "  text-align: right;\n",
       "  white-space: pre-wrap;\n",
       "}\n",
       "</style>\n",
       "<small>shape: (1, 1)</small><table border=\"1\" class=\"dataframe\"><thead><tr><th>1</th></tr><tr><td>i64</td></tr></thead><tbody><tr><td>1</td></tr></tbody></table></div>"
      ],
      "text/plain": [
       "shape: (1, 1)\n",
       "┌─────┐\n",
       "│ 1   │\n",
       "│ --- │\n",
       "│ i64 │\n",
       "╞═════╡\n",
       "│ 1   │\n",
       "└─────┘"
      ]
     },
     "execution_count": 6,
     "metadata": {},
     "output_type": "execute_result"
    }
   ],
   "source": [
    "df1.join(df2, on=\"1\", how='anti')"
   ]
  }
 ],
 "metadata": {
  "kernelspec": {
   "display_name": ".venv",
   "language": "python",
   "name": "python3"
  },
  "language_info": {
   "codemirror_mode": {
    "name": "ipython",
    "version": 3
   },
   "file_extension": ".py",
   "mimetype": "text/x-python",
   "name": "python",
   "nbconvert_exporter": "python",
   "pygments_lexer": "ipython3",
   "version": "3.13.0"
  }
 },
 "nbformat": 4,
 "nbformat_minor": 2
}
